{
 "cells": [
  {
   "cell_type": "code",
   "execution_count": 1,
   "id": "e020cea7",
   "metadata": {},
   "outputs": [
    {
     "name": "stderr",
     "output_type": "stream",
     "text": [
      "25/03/19 17:27:49 WARN SparkSession: Using an existing Spark session; only runtime SQL configurations will take effect.\n"
     ]
    },
    {
     "data": {
      "text/html": [
       "\n",
       "            <div>\n",
       "                <p><b>SparkSession - hive</b></p>\n",
       "                \n",
       "        <div>\n",
       "            <p><b>SparkContext</b></p>\n",
       "\n",
       "            <p><a href=\"http://192.168.90.30:4040\">Spark UI</a></p>\n",
       "\n",
       "            <dl>\n",
       "              <dt>Version</dt>\n",
       "                <dd><code>v3.5.0</code></dd>\n",
       "              <dt>Master</dt>\n",
       "                <dd><code>local[*]</code></dd>\n",
       "              <dt>AppName</dt>\n",
       "                <dd><code>PySparkShell</code></dd>\n",
       "            </dl>\n",
       "        </div>\n",
       "        \n",
       "            </div>\n",
       "        "
      ],
      "text/plain": [
       "<pyspark.sql.session.SparkSession at 0x7f303be610a0>"
      ]
     },
     "execution_count": 1,
     "metadata": {},
     "output_type": "execute_result"
    }
   ],
   "source": [
    "# Basic Spark Session Initialization\n",
    "from pyspark.sql import SparkSession\n",
    "\n",
    "spark = SparkSession.builder \\\n",
    "    .appName(\"Depression_Prediction_Project\") \\\n",
    "    .getOrCreate()\n",
    "\n",
    "spark"
   ]
  },
  {
   "cell_type": "code",
   "execution_count": 2,
   "id": "7d35ee10",
   "metadata": {},
   "outputs": [
    {
     "name": "stderr",
     "output_type": "stream",
     "text": [
      "\r",
      "[Stage 1:>                                                          (0 + 1) / 1]\r",
      "\r",
      "                                                                                \r"
     ]
    },
    {
     "name": "stdout",
     "output_type": "stream",
     "text": [
      "root\n",
      " |-- id: integer (nullable = true)\n",
      " |-- Gender: string (nullable = true)\n",
      " |-- Age: double (nullable = true)\n",
      " |-- City: string (nullable = true)\n",
      " |-- Profession: string (nullable = true)\n",
      " |-- Academic Pressure: double (nullable = true)\n",
      " |-- Work Pressure: double (nullable = true)\n",
      " |-- CGPA: double (nullable = true)\n",
      " |-- Study Satisfaction: double (nullable = true)\n",
      " |-- Job Satisfaction: double (nullable = true)\n",
      " |-- Sleep Duration: string (nullable = true)\n",
      " |-- Dietary Habits: string (nullable = true)\n",
      " |-- Degree: string (nullable = true)\n",
      " |-- Have you ever had suicidal thoughts ?: string (nullable = true)\n",
      " |-- Work/Study Hours: double (nullable = true)\n",
      " |-- Financial Stress: double (nullable = true)\n",
      " |-- Family History of Mental Illness: string (nullable = true)\n",
      " |-- Depression: integer (nullable = true)\n",
      "\n",
      "+---+------+----+-------------+----------+-----------------+-------------+----+------------------+----------------+-----------------+--------------+-------+-------------------------------------+----------------+----------------+--------------------------------+----------+\n",
      "| id|Gender| Age|         City|Profession|Academic Pressure|Work Pressure|CGPA|Study Satisfaction|Job Satisfaction|   Sleep Duration|Dietary Habits| Degree|Have you ever had suicidal thoughts ?|Work/Study Hours|Financial Stress|Family History of Mental Illness|Depression|\n",
      "+---+------+----+-------------+----------+-----------------+-------------+----+------------------+----------------+-----------------+--------------+-------+-------------------------------------+----------------+----------------+--------------------------------+----------+\n",
      "|  2|  Male|33.0|Visakhapatnam|   Student|              5.0|          0.0|8.97|               2.0|             0.0|        5-6 hours|       Healthy|B.Pharm|                                  Yes|             3.0|             1.0|                              No|         1|\n",
      "|  8|Female|24.0|    Bangalore|   Student|              2.0|          0.0| 5.9|               5.0|             0.0|        5-6 hours|      Moderate|    BSc|                                   No|             3.0|             2.0|                             Yes|         0|\n",
      "| 26|  Male|31.0|     Srinagar|   Student|              3.0|          0.0|7.03|               5.0|             0.0|Less than 5 hours|       Healthy|     BA|                                   No|             9.0|             1.0|                             Yes|         0|\n",
      "| 30|Female|28.0|     Varanasi|   Student|              3.0|          0.0|5.59|               2.0|             0.0|        7-8 hours|      Moderate|    BCA|                                  Yes|             4.0|             5.0|                             Yes|         1|\n",
      "| 32|Female|25.0|       Jaipur|   Student|              4.0|          0.0|8.13|               3.0|             0.0|        5-6 hours|      Moderate| M.Tech|                                  Yes|             1.0|             1.0|                              No|         0|\n",
      "+---+------+----+-------------+----------+-----------------+-------------+----+------------------+----------------+-----------------+--------------+-------+-------------------------------------+----------------+----------------+--------------------------------+----------+\n",
      "only showing top 5 rows\n",
      "\n"
     ]
    }
   ],
   "source": [
    "# Path to your dataset\n",
    "data_path = '/home/linuxu/big data analysis final project/Student_Depression_Dataset.csv'\n",
    "\n",
    "# Load dataset into Spark DataFrame\n",
    "df = spark.read.csv(data_path, header=True, inferSchema=True)\n",
    "\n",
    "# Display schema clearly to ensure correctness\n",
    "df.printSchema()\n",
    "\n",
    "# Show the first 5 rows clearly\n",
    "df.show(5)"
   ]
  },
  {
   "cell_type": "markdown",
   "id": "b00cb645",
   "metadata": {},
   "source": [
    "# Remove Non Student Rows and Columns:"
   ]
  },
  {
   "cell_type": "code",
   "execution_count": 6,
   "id": "a79e2ded",
   "metadata": {},
   "outputs": [
    {
     "name": "stdout",
     "output_type": "stream",
     "text": [
      "+--------------------+\n",
      "|          Profession|\n",
      "+--------------------+\n",
      "|             Student|\n",
      "|      Civil Engineer|\n",
      "|              Lawyer|\n",
      "|             Teacher|\n",
      "|                Chef|\n",
      "|           Architect|\n",
      "|      UX/UI Designer|\n",
      "|        Entrepreneur|\n",
      "|    Digital Marketer|\n",
      "|          Pharmacist|\n",
      "|              Doctor|\n",
      "|Educational Consu...|\n",
      "|             Manager|\n",
      "|      Content Writer|\n",
      "+--------------------+\n",
      "\n",
      "+----------+\n",
      "|Profession|\n",
      "+----------+\n",
      "|   Student|\n",
      "+----------+\n",
      "\n",
      "New row count after filtering students: 27870\n"
     ]
    }
   ],
   "source": [
    "# Check the distinct professions before removal\n",
    "df.select(\"Profession\").distinct().show()\n",
    "\n",
    "# Keep only rows where Profession is \"Student\"\n",
    "df_students = df.filter(df[\"Profession\"] == \"Student\")\n",
    "\n",
    "# Verify clearly that only students remain\n",
    "df_students.select(\"Profession\").distinct().show()\n",
    "\n",
    "# Check new row count (should be smaller than before)\n",
    "print(f\"New row count after filtering students: {df_students.count()}\")\n"
   ]
  },
  {
   "cell_type": "code",
   "execution_count": 7,
   "id": "d7506e4a",
   "metadata": {},
   "outputs": [
    {
     "name": "stdout",
     "output_type": "stream",
     "text": [
      "root\n",
      " |-- id: integer (nullable = true)\n",
      " |-- Gender: string (nullable = true)\n",
      " |-- Age: double (nullable = true)\n",
      " |-- City: string (nullable = true)\n",
      " |-- Academic Pressure: double (nullable = true)\n",
      " |-- CGPA: double (nullable = true)\n",
      " |-- Study Satisfaction: double (nullable = true)\n",
      " |-- Sleep Duration: string (nullable = true)\n",
      " |-- Dietary Habits: string (nullable = true)\n",
      " |-- Degree: string (nullable = true)\n",
      " |-- Have you ever had suicidal thoughts ?: string (nullable = true)\n",
      " |-- Work/Study Hours: double (nullable = true)\n",
      " |-- Financial Stress: double (nullable = true)\n",
      " |-- Family History of Mental Illness: string (nullable = true)\n",
      " |-- Depression: integer (nullable = true)\n",
      "\n"
     ]
    }
   ],
   "source": [
    "# Drop irrelevant columns\n",
    "columns_to_remove = [\"Work Pressure\", \"Job Satisfaction\", \"Profession\"]  # remove \"Proffession\" as well, since it's now redundant (all are students)\n",
    "df_students_clean = df_students.drop(*columns_to_remove)\n",
    "\n",
    "# Verify clearly columns are removed\n",
    "df_students_clean.printSchema()\n"
   ]
  },
  {
   "cell_type": "code",
   "execution_count": 8,
   "id": "c9f7996e",
   "metadata": {},
   "outputs": [
    {
     "name": "stdout",
     "output_type": "stream",
     "text": [
      "+---+------+----+-------------+-----------------+----+------------------+-----------------+--------------+-------+-------------------------------------+----------------+----------------+--------------------------------+----------+\n",
      "| id|Gender| Age|         City|Academic Pressure|CGPA|Study Satisfaction|   Sleep Duration|Dietary Habits| Degree|Have you ever had suicidal thoughts ?|Work/Study Hours|Financial Stress|Family History of Mental Illness|Depression|\n",
      "+---+------+----+-------------+-----------------+----+------------------+-----------------+--------------+-------+-------------------------------------+----------------+----------------+--------------------------------+----------+\n",
      "|  2|  Male|33.0|Visakhapatnam|              5.0|8.97|               2.0|        5-6 hours|       Healthy|B.Pharm|                                  Yes|             3.0|             1.0|                              No|         1|\n",
      "|  8|Female|24.0|    Bangalore|              2.0| 5.9|               5.0|        5-6 hours|      Moderate|    BSc|                                   No|             3.0|             2.0|                             Yes|         0|\n",
      "| 26|  Male|31.0|     Srinagar|              3.0|7.03|               5.0|Less than 5 hours|       Healthy|     BA|                                   No|             9.0|             1.0|                             Yes|         0|\n",
      "| 30|Female|28.0|     Varanasi|              3.0|5.59|               2.0|        7-8 hours|      Moderate|    BCA|                                  Yes|             4.0|             5.0|                             Yes|         1|\n",
      "| 32|Female|25.0|       Jaipur|              4.0|8.13|               3.0|        5-6 hours|      Moderate| M.Tech|                                  Yes|             1.0|             1.0|                              No|         0|\n",
      "+---+------+----+-------------+-----------------+----+------------------+-----------------+--------------+-------+-------------------------------------+----------------+----------------+--------------------------------+----------+\n",
      "only showing top 5 rows\n",
      "\n"
     ]
    },
    {
     "name": "stderr",
     "output_type": "stream",
     "text": [
      "\r",
      "[Stage 19:>                                                         (0 + 1) / 1]\r"
     ]
    },
    {
     "name": "stdout",
     "output_type": "stream",
     "text": [
      "+---+------+---+----+-----------------+----+------------------+--------------+--------------+------+-------------------------------------+----------------+----------------+--------------------------------+----------+\n",
      "| id|Gender|Age|City|Academic Pressure|CGPA|Study Satisfaction|Sleep Duration|Dietary Habits|Degree|Have you ever had suicidal thoughts ?|Work/Study Hours|Financial Stress|Family History of Mental Illness|Depression|\n",
      "+---+------+---+----+-----------------+----+------------------+--------------+--------------+------+-------------------------------------+----------------+----------------+--------------------------------+----------+\n",
      "|  0|     0|  0|   0|                0|   0|                 0|             0|             0|     0|                                    0|               0|               3|                               0|         0|\n",
      "+---+------+---+----+-----------------+----+------------------+--------------+--------------+------+-------------------------------------+----------------+----------------+--------------------------------+----------+\n",
      "\n"
     ]
    },
    {
     "name": "stderr",
     "output_type": "stream",
     "text": [
      "\r",
      "                                                                                \r"
     ]
    }
   ],
   "source": [
    "# Display first 5 rows to ensure dataset looks correct\n",
    "df_students_clean.show(5)\n",
    "\n",
    "# Verify again missing values for cleanliness check\n",
    "from pyspark.sql.functions import col, isnan, when, count\n",
    "\n",
    "df_students_clean.select([count(when(col(c).isNull() | isnan(c), c)).alias(c) for c in df_students_clean.columns]).show()\n"
   ]
  },
  {
   "cell_type": "code",
   "execution_count": 9,
   "id": "aa7ca03a",
   "metadata": {},
   "outputs": [
    {
     "name": "stdout",
     "output_type": "stream",
     "text": [
      "+----------+-----+\n",
      "|Depression|count|\n",
      "+----------+-----+\n",
      "|         1|16336|\n",
      "|         0|11565|\n",
      "+----------+-----+\n",
      "\n"
     ]
    }
   ],
   "source": [
    "df.groupBy(\"Depression\").count().show()"
   ]
  },
  {
   "cell_type": "code",
   "execution_count": null,
   "id": "0a25b37d",
   "metadata": {},
   "outputs": [],
   "source": []
  }
 ],
 "metadata": {
  "kernelspec": {
   "display_name": "Python 3 (ipykernel)",
   "language": "python",
   "name": "python3"
  },
  "language_info": {
   "codemirror_mode": {
    "name": "ipython",
    "version": 3
   },
   "file_extension": ".py",
   "mimetype": "text/x-python",
   "name": "python",
   "nbconvert_exporter": "python",
   "pygments_lexer": "ipython3",
   "version": "3.9.12"
  }
 },
 "nbformat": 4,
 "nbformat_minor": 5
}
